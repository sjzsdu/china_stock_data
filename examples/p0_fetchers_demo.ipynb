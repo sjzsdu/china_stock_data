{
 "cells": [
  {
   "cell_type": "markdown",
   "id": "a51cc324",
   "metadata": {},
   "source": [
    "# P0 新增 fetchers 示例\n",
    "本 notebook 展示如何使用 P0 级别的 AkShare fetcher 获取关键数据。"
   ]
  },
  {
   "cell_type": "code",
   "execution_count": null,
   "id": "0398d1ce",
   "metadata": {},
   "outputs": [],
   "source": [
    "from china_stock_data.fetchers.market.northbound_holdings_fetcher import NorthboundHoldingsFetcher\n",
    "from china_stock_data.fetchers.market.margin_financing_fetcher import MarginFinancingFetcher\n",
    "from china_stock_data.fetchers.market.lhb_fetcher import LHBFetcher\n",
    "from china_stock_data.fetchers.stock.fund_flow_fetcher import StockFundFlowFetcher\n",
    "from china_stock_data.fetchers.fundamentals.financial_statements_fetcher import FinancialStatementsFetcher\n",
    "from china_stock_data.fetchers.fundamentals.earnings_fetcher import EarningsFetcher\n",
    "from china_stock_data.fetchers.fundamentals.dividend_fetcher import DividendFetcher\n",
    "from china_stock_data.fetchers.fundamentals.share_change_fetcher import ShareChangeFetcher\n",
    "from china_stock_data.fetchers.fundamentals.restricted_release_fetcher import RestrictedReleaseFetcher\n",
    "from china_stock_data.fetchers.fundamentals.top_shareholders_fetcher import TopShareholdersFetcher\n",
    "from china_stock_data.fetchers.fundamentals.block_trade_fetcher import BlockTradeFetcher\n",
    "from china_stock_data.fetchers.fundamentals.repurchase_fetcher import RepurchaseFetcher"
   ]
  },
  {
   "cell_type": "code",
   "execution_count": null,
   "id": "84dc1ecb",
   "metadata": {},
   "outputs": [],
   "source": [
    "class Dummy:\n",
    "    def __init__(self, symbol):\n",
    "        self.symbol = symbol\n",
    "        self.days_key = '20240101_20240901'\n",
    "        self.period = 'daily'\n",
    "        self.adjust = ''\n",
    "        self.start_date = '2024-01-01'\n",
    "        self.end_date = '2024-09-01'"
   ]
  },
  {
   "cell_type": "code",
   "execution_count": null,
   "id": "ee740199",
   "metadata": {},
   "outputs": [],
   "source": [
    "# 北向持股\n",
    "df_northbound = NorthboundHoldingsFetcher(Dummy('000001')).fetch_data()\n",
    "df_northbound.head()"
   ]
  },
  {
   "cell_type": "code",
   "execution_count": null,
   "id": "f2f332ec",
   "metadata": {},
   "outputs": [],
   "source": [
    "# 融资融券余额\n",
    "df_margin = MarginFinancingFetcher(Dummy('000001')).fetch_data()\n",
    "df_margin.head()"
   ]
  },
  {
   "cell_type": "code",
   "execution_count": null,
   "id": "6d7f4bc7",
   "metadata": {},
   "outputs": [],
   "source": [
    "# 龙虎榜明细\n",
    "df_lhb = LHBFetcher(Dummy('000001')).fetch_data()\n",
    "df_lhb.head()"
   ]
  },
  {
   "cell_type": "code",
   "execution_count": null,
   "id": "3078cb6b",
   "metadata": {},
   "outputs": [],
   "source": [
    "# 个股资金流排行\n",
    "df_fund_flow = StockFundFlowFetcher(Dummy('000001')).fetch_data()\n",
    "df_fund_flow.head()"
   ]
  },
  {
   "cell_type": "code",
   "execution_count": null,
   "id": "9987af85",
   "metadata": {},
   "outputs": [],
   "source": [
    "# 三大财务报表\n",
    "df_fin = FinancialStatementsFetcher(Dummy('600000')).fetch_data()\n",
    "df_fin.head()"
   ]
  },
  {
   "cell_type": "code",
   "execution_count": null,
   "id": "43ea1ee9",
   "metadata": {},
   "outputs": [],
   "source": [
    "# 业绩快报/预告\n",
    "df_earnings = EarningsFetcher(Dummy('600000')).fetch_data()\n",
    "df_earnings.head()"
   ]
  },
  {
   "cell_type": "code",
   "execution_count": null,
   "id": "b5ef575d",
   "metadata": {},
   "outputs": [],
   "source": [
    "# 分红派息\n",
    "df_div = DividendFetcher(Dummy('600000')).fetch_data()\n",
    "df_div.head()"
   ]
  },
  {
   "cell_type": "code",
   "execution_count": null,
   "id": "761347a2",
   "metadata": {},
   "outputs": [],
   "source": [
    "# 股东增减持\n",
    "df_sharechg = ShareChangeFetcher(Dummy('600000')).fetch_data()\n",
    "df_sharechg.head()"
   ]
  },
  {
   "cell_type": "code",
   "execution_count": null,
   "id": "cd0cd79c",
   "metadata": {},
   "outputs": [],
   "source": [
    "# 限售解禁\n",
    "df_restrict = RestrictedReleaseFetcher(Dummy('600000')).fetch_data()\n",
    "df_restrict.head()"
   ]
  },
  {
   "cell_type": "code",
   "execution_count": null,
   "id": "d9579613",
   "metadata": {},
   "outputs": [],
   "source": [
    "# 前十大流通股东\n",
    "df_top10 = TopShareholdersFetcher(Dummy('600000')).fetch_data()\n",
    "df_top10.head()"
   ]
  },
  {
   "cell_type": "code",
   "execution_count": null,
   "id": "c401a429",
   "metadata": {},
   "outputs": [],
   "source": [
    "# 大宗交易\n",
    "df_block = BlockTradeFetcher(Dummy('600000')).fetch_data()\n",
    "df_block.head()"
   ]
  },
  {
   "cell_type": "code",
   "execution_count": null,
   "id": "a3cc3bd0",
   "metadata": {},
   "outputs": [],
   "source": [
    "# 回购\n",
    "df_repurchase = RepurchaseFetcher(Dummy('600000')).fetch_data()\n",
    "df_repurchase.head()"
   ]
  }
 ],
 "metadata": {
  "language_info": {
   "name": "python"
  }
 },
 "nbformat": 4,
 "nbformat_minor": 5
}
