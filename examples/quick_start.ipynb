{
 "cells": [
  {
   "cell_type": "markdown",
   "id": "74b70e2f",
   "metadata": {},
   "source": [
    "# 🚀 Quick Start Guide\n",
    "\n",
    "Welcome to the China Stock Data library! This notebook will get you started in just a few minutes."
   ]
  },
  {
   "cell_type": "markdown",
   "id": "3fdffe8e",
   "metadata": {},
   "source": [
    "## Step 1: Import the Library"
   ]
  },
  {
   "cell_type": "code",
   "execution_count": 1,
   "id": "42cc3fdc",
   "metadata": {},
   "outputs": [
    {
     "name": "stdout",
     "output_type": "stream",
     "text": [
      "✅ Library imported successfully!\n",
      "Ready to analyze Chinese stock market data! 📈\n"
     ]
    }
   ],
   "source": [
    "from china_stock_data import StockData, StockMarket\n",
    "import pandas as pd\n",
    "import matplotlib.pyplot as plt\n",
    "\n",
    "print(\"✅ Library imported successfully!\")\n",
    "print(\"Ready to analyze Chinese stock market data! 📈\")"
   ]
  },
  {
   "cell_type": "markdown",
   "id": "21b1c398",
   "metadata": {},
   "source": [
    "## Step 2: Get Stock Data"
   ]
  },
  {
   "cell_type": "code",
   "execution_count": 2,
   "id": "ff350f9b",
   "metadata": {},
   "outputs": [
    {
     "name": "stdout",
     "output_type": "stream",
     "text": [
      "📊 Retrieved 21 days of data for stock 600519\n",
      "📅 Date range: 0 to 20\n",
      "💰 Latest price: ¥1501.23\n"
     ]
    },
    {
     "data": {
      "text/html": [
       "<div>\n",
       "<style scoped>\n",
       "    .dataframe tbody tr th:only-of-type {\n",
       "        vertical-align: middle;\n",
       "    }\n",
       "\n",
       "    .dataframe tbody tr th {\n",
       "        vertical-align: top;\n",
       "    }\n",
       "\n",
       "    .dataframe thead th {\n",
       "        text-align: right;\n",
       "    }\n",
       "</style>\n",
       "<table border=\"1\" class=\"dataframe\">\n",
       "  <thead>\n",
       "    <tr style=\"text-align: right;\">\n",
       "      <th></th>\n",
       "      <th>日期</th>\n",
       "      <th>股票代码</th>\n",
       "      <th>开盘</th>\n",
       "      <th>收盘</th>\n",
       "      <th>最高</th>\n",
       "      <th>最低</th>\n",
       "      <th>成交量</th>\n",
       "      <th>成交额</th>\n",
       "      <th>振幅</th>\n",
       "      <th>涨跌幅</th>\n",
       "      <th>涨跌额</th>\n",
       "      <th>换手率</th>\n",
       "      <th>平均</th>\n",
       "      <th>加权平均</th>\n",
       "    </tr>\n",
       "  </thead>\n",
       "  <tbody>\n",
       "    <tr>\n",
       "      <th>0</th>\n",
       "      <td>2025-08-11</td>\n",
       "      <td>600519</td>\n",
       "      <td>1423.50</td>\n",
       "      <td>1445.00</td>\n",
       "      <td>1451.99</td>\n",
       "      <td>1423.00</td>\n",
       "      <td>47159</td>\n",
       "      <td>6.794034e+09</td>\n",
       "      <td>2.04</td>\n",
       "      <td>1.69</td>\n",
       "      <td>24.03</td>\n",
       "      <td>0.38</td>\n",
       "      <td>1437.495</td>\n",
       "      <td>1440.665428</td>\n",
       "    </tr>\n",
       "    <tr>\n",
       "      <th>1</th>\n",
       "      <td>2025-08-12</td>\n",
       "      <td>600519</td>\n",
       "      <td>1449.00</td>\n",
       "      <td>1437.04</td>\n",
       "      <td>1465.07</td>\n",
       "      <td>1436.00</td>\n",
       "      <td>42019</td>\n",
       "      <td>6.095342e+09</td>\n",
       "      <td>2.01</td>\n",
       "      <td>-0.55</td>\n",
       "      <td>-7.96</td>\n",
       "      <td>0.33</td>\n",
       "      <td>1450.535</td>\n",
       "      <td>1450.615682</td>\n",
       "    </tr>\n",
       "    <tr>\n",
       "      <th>2</th>\n",
       "      <td>2025-08-13</td>\n",
       "      <td>600519</td>\n",
       "      <td>1425.00</td>\n",
       "      <td>1420.05</td>\n",
       "      <td>1433.68</td>\n",
       "      <td>1420.00</td>\n",
       "      <td>65528</td>\n",
       "      <td>9.325460e+09</td>\n",
       "      <td>0.95</td>\n",
       "      <td>-1.18</td>\n",
       "      <td>-16.99</td>\n",
       "      <td>0.52</td>\n",
       "      <td>1426.840</td>\n",
       "      <td>1423.126007</td>\n",
       "    </tr>\n",
       "    <tr>\n",
       "      <th>3</th>\n",
       "      <td>2025-08-14</td>\n",
       "      <td>600519</td>\n",
       "      <td>1420.94</td>\n",
       "      <td>1426.99</td>\n",
       "      <td>1447.51</td>\n",
       "      <td>1420.94</td>\n",
       "      <td>48129</td>\n",
       "      <td>6.897535e+09</td>\n",
       "      <td>1.87</td>\n",
       "      <td>0.49</td>\n",
       "      <td>6.94</td>\n",
       "      <td>0.38</td>\n",
       "      <td>1434.225</td>\n",
       "      <td>1433.134977</td>\n",
       "    </tr>\n",
       "    <tr>\n",
       "      <th>4</th>\n",
       "      <td>2025-08-15</td>\n",
       "      <td>600519</td>\n",
       "      <td>1426.01</td>\n",
       "      <td>1422.08</td>\n",
       "      <td>1428.66</td>\n",
       "      <td>1420.22</td>\n",
       "      <td>47582</td>\n",
       "      <td>6.772437e+09</td>\n",
       "      <td>0.59</td>\n",
       "      <td>-0.34</td>\n",
       "      <td>-4.91</td>\n",
       "      <td>0.38</td>\n",
       "      <td>1424.440</td>\n",
       "      <td>1423.319112</td>\n",
       "    </tr>\n",
       "  </tbody>\n",
       "</table>\n",
       "</div>"
      ],
      "text/plain": [
       "           日期    股票代码       开盘       收盘       最高       最低    成交量  \\\n",
       "0  2025-08-11  600519  1423.50  1445.00  1451.99  1423.00  47159   \n",
       "1  2025-08-12  600519  1449.00  1437.04  1465.07  1436.00  42019   \n",
       "2  2025-08-13  600519  1425.00  1420.05  1433.68  1420.00  65528   \n",
       "3  2025-08-14  600519  1420.94  1426.99  1447.51  1420.94  48129   \n",
       "4  2025-08-15  600519  1426.01  1422.08  1428.66  1420.22  47582   \n",
       "\n",
       "            成交额    振幅   涨跌幅    涨跌额   换手率        平均         加权平均  \n",
       "0  6.794034e+09  2.04  1.69  24.03  0.38  1437.495  1440.665428  \n",
       "1  6.095342e+09  2.01 -0.55  -7.96  0.33  1450.535  1450.615682  \n",
       "2  9.325460e+09  0.95 -1.18 -16.99  0.52  1426.840  1423.126007  \n",
       "3  6.897535e+09  1.87  0.49   6.94  0.38  1434.225  1433.134977  \n",
       "4  6.772437e+09  0.59 -0.34  -4.91  0.38  1424.440  1423.319112  "
      ]
     },
     "execution_count": 2,
     "metadata": {},
     "output_type": "execute_result"
    }
   ],
   "source": [
    "# Create a stock instance (using Ping An Bank as example)\n",
    "stock = StockData(symbol=\"600519\", days=30)\n",
    "\n",
    "# Get historical price data\n",
    "price_data = stock.get_data(\"kline\")\n",
    "\n",
    "print(f\"📊 Retrieved {len(price_data)} days of data for stock {stock.symbol}\")\n",
    "print(f\"📅 Date range: {price_data.index.min()} to {price_data.index.max()}\")\n",
    "print(f\"💰 Latest price: ¥{price_data['收盘'].iloc[-1]:.2f}\")\n",
    "\n",
    "# Show first few rows\n",
    "price_data.head()"
   ]
  },
  {
   "cell_type": "markdown",
   "id": "c12b3e1f",
   "metadata": {},
   "source": [
    "## Step 3: Basic Analysis"
   ]
  },
  {
   "cell_type": "code",
   "execution_count": 3,
   "id": "9f0405d3",
   "metadata": {},
   "outputs": [
    {
     "name": "stdout",
     "output_type": "stream",
     "text": [
      "📈 STOCK ANALYSIS SUMMARY\n",
      "========================================\n",
      "Stock Symbol: 600519\n",
      "Current Price: ¥1501.23\n",
      "Period Change: +3.89%\n",
      "Price Range: ¥1420.00 - ¥1509.00\n",
      "Average Volume: 48,175\n"
     ]
    }
   ],
   "source": [
    "# Calculate basic statistics\n",
    "if not price_data.empty:\n",
    "    latest_price = price_data['收盘'].iloc[-1]\n",
    "    highest_price = price_data['最高'].max()\n",
    "    lowest_price = price_data['最低'].min()\n",
    "    avg_volume = price_data['成交量'].mean()\n",
    "    \n",
    "    # Price change calculation\n",
    "    first_price = price_data['收盘'].iloc[0]\n",
    "    price_change = ((latest_price / first_price) - 1) * 100\n",
    "    \n",
    "    print(\"📈 STOCK ANALYSIS SUMMARY\")\n",
    "    print(\"=\" * 40)\n",
    "    print(f\"Stock Symbol: {stock.symbol}\")\n",
    "    print(f\"Current Price: ¥{latest_price:.2f}\")\n",
    "    print(f\"Period Change: {price_change:+.2f}%\")\n",
    "    print(f\"Price Range: ¥{lowest_price:.2f} - ¥{highest_price:.2f}\")\n",
    "    print(f\"Average Volume: {avg_volume:,.0f}\")\n",
    "else:\n",
    "    print(\"❌ No data available for analysis\")"
   ]
  },
  {
   "cell_type": "markdown",
   "id": "f3a9c5f8",
   "metadata": {},
   "source": [
    "## Step 4: Simple Visualization"
   ]
  },
  {
   "cell_type": "code",
   "execution_count": 4,
   "id": "29d51262",
   "metadata": {},
   "outputs": [
    {
     "data": {
      "image/png": "[encoded data removed]",
      "text/plain": [
       "<Figure size 1200x600 with 1 Axes>"
      ]
     },
     "metadata": {},
     "output_type": "display_data"
    },
    {
     "name": "stdout",
     "output_type": "stream",
     "text": [
      "📊 Chart created successfully!\n"
     ]
    }
   ],
   "source": [
    "# Create a simple price chart\n",
    "if not price_data.empty:\n",
    "    plt.figure(figsize=(12, 6))\n",
    "    \n",
    "    # Plot closing price\n",
    "    plt.plot(price_data.index, price_data['收盘'], linewidth=2, color='blue', label='Closing Price')\n",
    "    \n",
    "    # Add 5-day moving average\n",
    "    ma5 = price_data['收盘'].rolling(5).mean()\n",
    "    plt.plot(price_data.index, ma5, linewidth=1, color='red', alpha=0.8, label='5-Day MA')\n",
    "    \n",
    "    plt.title(f'Stock {stock.symbol} - Price Trend (Last 30 Days)', fontsize=14, fontweight='bold')\n",
    "    plt.xlabel('Date')\n",
    "    plt.ylabel('Price (¥)')\n",
    "    plt.legend()\n",
    "    plt.grid(True, alpha=0.3)\n",
    "    plt.xticks(rotation=45)\n",
    "    plt.tight_layout()\n",
    "    plt.show()\n",
    "    \n",
    "    print(\"📊 Chart created successfully!\")\n",
    "else:\n",
    "    print(\"❌ No data available for visualization\")"
   ]
  },
  {
   "cell_type": "markdown",
   "id": "ff439907",
   "metadata": {},
   "source": [
    "## Step 5: Explore More Data Types"
   ]
  },
  {
   "cell_type": "code",
   "execution_count": 7,
   "id": "27be46ca",
   "metadata": {},
   "outputs": [
    {
     "name": "stdout",
     "output_type": "stream",
     "text": [
      "🔍 Available data types for stocks:\n",
      "  • kline\n",
      "  • info\n",
      "  • chip\n",
      "  • bid_ask\n",
      "\n",
      "🏢 Company Information:\n",
      "   item             value\n",
      "0  股票代码            600519\n",
      "1  股票简称              贵州茅台\n",
      "2   总股本      1252270215.0\n",
      "3   流通股      1252270215.0\n",
      "4   总市值  1879945614864.45\n",
      "Fetching stock realtime data!\n",
      "Error fetching data: '600519'\n",
      "警告：获取的数据无效，返回空DataFrame。\n",
      "\n",
      "⚡ Real-time Data:\n",
      "No real-time data available (normal during non-trading hours)\n"
     ]
    }
   ],
   "source": [
    "# Show all available data types\n",
    "print(\"🔍 Available data types for stocks:\")\n",
    "for fetcher_name in stock.fetchers.keys():\n",
    "    print(f\"  • {fetcher_name}\")\n",
    "\n",
    "# Try to get company information\n",
    "try:\n",
    "    company_info = stock.get_data(\"info\")\n",
    "    print(\"\\n🏢 Company Information:\")\n",
    "    if isinstance(company_info, pd.Series):\n",
    "        print(company_info)\n",
    "    elif isinstance(company_info, pd.DataFrame):\n",
    "        print(company_info.head())\n",
    "    else:\n",
    "        print(company_info)\n",
    "except Exception as e:\n",
    "    print(f\"\\n⚠️  Company info not available: {e}\")\n",
    "\n",
    "# Try to get real-time data\n",
    "try:\n",
    "    realtime_data = stock.get_data(\"bid_ask\")\n",
    "    print(\"\\n⚡ Bid ask Data:\")\n",
    "    if not realtime_data.empty:\n",
    "        print(realtime_data.head())\n",
    "    else:\n",
    "        print(\"No bid ask data available (normal during non-trading hours)\")\n",
    "except Exception as e:\n",
    "    print(f\"\\n⚠️  Real-time data not available: {e}\")"
   ]
  },
  {
   "cell_type": "markdown",
   "id": "bf506c72",
   "metadata": {},
   "source": [
    "## Step 6: Market-Level Analysis"
   ]
  },
  {
   "cell_type": "code",
   "execution_count": 6,
   "id": "c1e00d2f",
   "metadata": {},
   "outputs": [
    {
     "name": "stdout",
     "output_type": "stream",
     "text": [
      "🏦 Available market data types:\n",
      "  • index_components\n",
      "  • index_list\n",
      "  • market_motion\n",
      "  • us_index\n",
      "\n",
      "⚠️  Market sentiment not available: Unknown data type: sentiment\n",
      "Fetching index list data!\n",
      "\n",
      "📈 Available indices: 726\n",
      "First 5 indices:\n",
      "  index_code display_name publish_date\n",
      "0     000001         上证指数   1991-07-15\n",
      "1     000002         A股指数   1992-02-21\n",
      "2     000003         B股指数   1992-02-21\n",
      "3     000004         工业指数   1993-05-03\n",
      "4     000005         商业指数   1993-05-03\n"
     ]
    }
   ],
   "source": [
    "# Explore market-level data\n",
    "market = StockMarket()\n",
    "\n",
    "print(\"🏦 Available market data types:\")\n",
    "for fetcher_name in market.fetchers.keys():\n",
    "    print(f\"  • {fetcher_name}\")\n",
    "\n",
    "# Get market sentiment\n",
    "try:\n",
    "    sentiment = market.get_data(\"sentiment\")\n",
    "    print(f\"\\n📊 Market sentiment data: {sentiment.shape}\")\n",
    "    print(sentiment.head() if not sentiment.empty else \"No sentiment data available\")\n",
    "except Exception as e:\n",
    "    print(f\"\\n⚠️  Market sentiment not available: {e}\")\n",
    "\n",
    "# Get index list\n",
    "try:\n",
    "    index_list = market.get_data(\"index_list\")\n",
    "    print(f\"\\n📈 Available indices: {len(index_list)}\")\n",
    "    print(\"First 5 indices:\")\n",
    "    print(index_list.head())\n",
    "except Exception as e:\n",
    "    print(f\"\\n⚠️  Index list not available: {e}\")"
   ]
  },
  {
   "cell_type": "markdown",
   "id": "cd089e3b",
   "metadata": {},
   "source": [
    "## 🎉 Congratulations!\n",
    "\n",
    "You've successfully completed the quick start guide! Here's what you learned:\n",
    "\n",
    "✅ **Basic Data Retrieval**: Get stock price data with just a few lines of code  \n",
    "✅ **Simple Analysis**: Calculate returns, price ranges, and basic statistics  \n",
    "✅ **Visualization**: Create professional-looking charts  \n",
    "✅ **Data Types**: Explore different types of market data  \n",
    "✅ **Market Analysis**: Access market-level indicators and indices  \n",
    "\n",
    "## 🚀 Next Steps\n",
    "\n",
    "Ready for more advanced analysis? Check out these other examples:\n",
    "\n",
    "- **`professional_analysis.ipynb`** - Deep technical analysis with multiple indicators\n",
    "- **`portfolio_analysis.ipynb`** - Portfolio optimization and risk management\n",
    "\n",
    "## 💡 Pro Tips\n",
    "\n",
    "1. **Error Handling**: Always wrap data fetching in try-except blocks\n",
    "2. **Data Availability**: Not all data types are available for all stocks\n",
    "3. **Trading Hours**: Real-time data is only available during market hours\n",
    "4. **Rate Limits**: Don't make too many requests too quickly\n",
    "\n",
    "Happy analyzing! 📈✨"
   ]
  }
 ],
 "metadata": {
  "kernelspec": {
   "display_name": "Python 3 (ipykernel)",
   "language": "python",
   "name": "python3"
  },
  "language_info": {
   "codemirror_mode": {
    "name": "ipython",
    "version": 3
   },
   "file_extension": ".py",
   "mimetype": "text/x-python",
   "name": "python",
   "nbconvert_exporter": "python",
   "pygments_lexer": "ipython3",
   "version": "3.12.4"
  }
 },
 "nbformat": 4,
 "nbformat_minor": 5
}
