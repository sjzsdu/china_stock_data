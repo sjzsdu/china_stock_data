{
 "cells": [
  {
   "cell_type": "markdown",
   "id": "74b70e2f",
   "metadata": {},
   "source": [
    "# 🚀 Quick Start Guide\n",
    "\n",
    "Welcome to the China Stock Data library! This notebook will get you started in just a few minutes."
   ]
  },
  {
   "cell_type": "markdown",
   "id": "3fdffe8e",
   "metadata": {},
   "source": [
    "## Step 1: Import the Library"
   ]
  },
  {
   "cell_type": "code",
   "execution_count": null,
   "id": "42cc3fdc",
   "metadata": {},
   "outputs": [],
   "source": [
    "from china_stock_data import StockData, StockMarket\n",
    "import pandas as pd\n",
    "import matplotlib.pyplot as plt\n",
    "\n",
    "print(\"✅ Library imported successfully!\")\n",
    "print(\"Ready to analyze Chinese stock market data! 📈\")"
   ]
  },
  {
   "cell_type": "markdown",
   "id": "21b1c398",
   "metadata": {},
   "source": [
    "## Step 2: Get Stock Data"
   ]
  },
  {
   "cell_type": "code",
   "execution_count": null,
   "id": "ff350f9b",
   "metadata": {},
   "outputs": [],
   "source": [
    "# Create a stock instance (using Ping An Bank as example)\n",
    "stock = StockData(symbol=\"000001\", days=30)\n",
    "\n",
    "# Get historical price data\n",
    "price_data = stock.get_data(\"kline\")\n",
    "\n",
    "print(f\"📊 Retrieved {len(price_data)} days of data for stock {stock.symbol}\")\n",
    "print(f\"📅 Date range: {price_data.index.min()} to {price_data.index.max()}\")\n",
    "print(f\"💰 Latest price: ¥{price_data['收盘'].iloc[-1]:.2f}\")\n",
    "\n",
    "# Show first few rows\n",
    "price_data.head()"
   ]
  },
  {
   "cell_type": "markdown",
   "id": "c12b3e1f",
   "metadata": {},
   "source": [
    "## Step 3: Basic Analysis"
   ]
  },
  {
   "cell_type": "code",
   "execution_count": null,
   "id": "9f0405d3",
   "metadata": {},
   "outputs": [],
   "source": [
    "# Calculate basic statistics\n",
    "if not price_data.empty:\n",
    "    latest_price = price_data['收盘'].iloc[-1]\n",
    "    highest_price = price_data['最高'].max()\n",
    "    lowest_price = price_data['最低'].min()\n",
    "    avg_volume = price_data['成交量'].mean()\n",
    "    \n",
    "    # Price change calculation\n",
    "    first_price = price_data['收盘'].iloc[0]\n",
    "    price_change = ((latest_price / first_price) - 1) * 100\n",
    "    \n",
    "    print(\"📈 STOCK ANALYSIS SUMMARY\")\n",
    "    print(\"=\" * 40)\n",
    "    print(f\"Stock Symbol: {stock.symbol}\")\n",
    "    print(f\"Current Price: ¥{latest_price:.2f}\")\n",
    "    print(f\"Period Change: {price_change:+.2f}%\")\n",
    "    print(f\"Price Range: ¥{lowest_price:.2f} - ¥{highest_price:.2f}\")\n",
    "    print(f\"Average Volume: {avg_volume:,.0f}\")\n",
    "else:\n",
    "    print(\"❌ No data available for analysis\")"
   ]
  },
  {
   "cell_type": "markdown",
   "id": "f3a9c5f8",
   "metadata": {},
   "source": [
    "## Step 4: Simple Visualization"
   ]
  },
  {
   "cell_type": "code",
   "execution_count": null,
   "id": "29d51262",
   "metadata": {},
   "outputs": [],
   "source": [
    "# Create a simple price chart\n",
    "if not price_data.empty:\n",
    "    plt.figure(figsize=(12, 6))\n",
    "    \n",
    "    # Plot closing price\n",
    "    plt.plot(price_data.index, price_data['收盘'], linewidth=2, color='blue', label='Closing Price')\n",
    "    \n",
    "    # Add 5-day moving average\n",
    "    ma5 = price_data['收盘'].rolling(5).mean()\n",
    "    plt.plot(price_data.index, ma5, linewidth=1, color='red', alpha=0.8, label='5-Day MA')\n",
    "    \n",
    "    plt.title(f'Stock {stock.symbol} - Price Trend (Last 30 Days)', fontsize=14, fontweight='bold')\n",
    "    plt.xlabel('Date')\n",
    "    plt.ylabel('Price (¥)')\n",
    "    plt.legend()\n",
    "    plt.grid(True, alpha=0.3)\n",
    "    plt.xticks(rotation=45)\n",
    "    plt.tight_layout()\n",
    "    plt.show()\n",
    "    \n",
    "    print(\"📊 Chart created successfully!\")\n",
    "else:\n",
    "    print(\"❌ No data available for visualization\")"
   ]
  },
  {
   "cell_type": "markdown",
   "id": "ff439907",
   "metadata": {},
   "source": [
    "## Step 5: Explore More Data Types"
   ]
  },
  {
   "cell_type": "code",
   "execution_count": null,
   "id": "27be46ca",
   "metadata": {},
   "outputs": [],
   "source": [
    "# Show all available data types\n",
    "print(\"🔍 Available data types for stocks:\")\n",
    "for fetcher_name in stock.fetchers.keys():\n",
    "    print(f\"  • {fetcher_name}\")\n",
    "\n",
    "# Try to get company information\n",
    "try:\n",
    "    company_info = stock.get_data(\"info\")\n",
    "    print(\"\\n🏢 Company Information:\")\n",
    "    if isinstance(company_info, pd.Series):\n",
    "        print(company_info)\n",
    "    elif isinstance(company_info, pd.DataFrame):\n",
    "        print(company_info.head())\n",
    "    else:\n",
    "        print(company_info)\n",
    "except Exception as e:\n",
    "    print(f\"\\n⚠️  Company info not available: {e}\")\n",
    "\n",
    "# Try to get real-time data\n",
    "try:\n",
    "    realtime_data = stock.get_data(\"realtime\")\n",
    "    print(\"\\n⚡ Real-time Data:\")\n",
    "    if not realtime_data.empty:\n",
    "        print(realtime_data.head())\n",
    "    else:\n",
    "        print(\"No real-time data available (normal during non-trading hours)\")\n",
    "except Exception as e:\n",
    "    print(f\"\\n⚠️  Real-time data not available: {e}\")"
   ]
  },
  {
   "cell_type": "markdown",
   "id": "bf506c72",
   "metadata": {},
   "source": [
    "## Step 6: Market-Level Analysis"
   ]
  },
  {
   "cell_type": "code",
   "execution_count": null,
   "id": "c1e00d2f",
   "metadata": {},
   "outputs": [],
   "source": [
    "# Explore market-level data\n",
    "market = StockMarket()\n",
    "\n",
    "print(\"🏦 Available market data types:\")\n",
    "for fetcher_name in market.fetchers.keys():\n",
    "    print(f\"  • {fetcher_name}\")\n",
    "\n",
    "# Get market sentiment\n",
    "try:\n",
    "    sentiment = market.get_data(\"sentiment\")\n",
    "    print(f\"\\n📊 Market sentiment data: {sentiment.shape}\")\n",
    "    print(sentiment.head() if not sentiment.empty else \"No sentiment data available\")\n",
    "except Exception as e:\n",
    "    print(f\"\\n⚠️  Market sentiment not available: {e}\")\n",
    "\n",
    "# Get index list\n",
    "try:\n",
    "    index_list = market.get_data(\"index_list\")\n",
    "    print(f\"\\n📈 Available indices: {len(index_list)}\")\n",
    "    print(\"First 5 indices:\")\n",
    "    print(index_list.head())\n",
    "except Exception as e:\n",
    "    print(f\"\\n⚠️  Index list not available: {e}\")"
   ]
  },
  {
   "cell_type": "markdown",
   "id": "cd089e3b",
   "metadata": {},
   "source": [
    "## 🎉 Congratulations!\n",
    "\n",
    "You've successfully completed the quick start guide! Here's what you learned:\n",
    "\n",
    "✅ **Basic Data Retrieval**: Get stock price data with just a few lines of code  \n",
    "✅ **Simple Analysis**: Calculate returns, price ranges, and basic statistics  \n",
    "✅ **Visualization**: Create professional-looking charts  \n",
    "✅ **Data Types**: Explore different types of market data  \n",
    "✅ **Market Analysis**: Access market-level indicators and indices  \n",
    "\n",
    "## 🚀 Next Steps\n",
    "\n",
    "Ready for more advanced analysis? Check out these other examples:\n",
    "\n",
    "- **`professional_analysis.ipynb`** - Deep technical analysis with multiple indicators\n",
    "- **`portfolio_analysis.ipynb`** - Portfolio optimization and risk management\n",
    "\n",
    "## 💡 Pro Tips\n",
    "\n",
    "1. **Error Handling**: Always wrap data fetching in try-except blocks\n",
    "2. **Data Availability**: Not all data types are available for all stocks\n",
    "3. **Trading Hours**: Real-time data is only available during market hours\n",
    "4. **Rate Limits**: Don't make too many requests too quickly\n",
    "\n",
    "Happy analyzing! 📈✨"
   ]
  }
 ],
 "metadata": {
  "language_info": {
   "name": "python"
  }
 },
 "nbformat": 4,
 "nbformat_minor": 5
}
