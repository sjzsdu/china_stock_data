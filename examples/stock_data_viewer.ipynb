{
 "cells": [
  {
   "cell_type": "markdown",
   "id": "50995a1f",
   "metadata": {},
   "source": [
    "# StockData 数据查看器\n",
    "\n",
    "本notebook用于展示StockData类中所有fetcher获取的实际数据内容，帮助快速了解每个股票相关接口的功能和数据结构。\n",
    "\n",
    "## 📊 StockData包含的数据类型\n",
    "\n",
    "### 基础股票数据\n",
    "- **历史行情数据** - 股票的K线数据（开高低收量）\n",
    "- **实时行情数据** - 股票当前的实时价格和交易信息\n",
    "- **股票基本信息** - 股票名称、行业、市值等基本信息\n",
    "- **筹码分布数据** - 股票的持仓成本分布\n",
    "\n",
    "### 基本面数据\n",
    "- **财务报表数据** - 利润表、资产负债表、现金流量表\n",
    "- **分红数据** - 历史分红派息记录\n",
    "- **业绩数据** - 营收、净利润等业绩指标\n",
    "- **股东数据** - 十大股东持股情况\n",
    "- **股本变动** - 增发、回购等股本变化\n",
    "- **限售解禁** - 限售股解禁时间表\n",
    "- **大宗交易** - 大宗交易记录"
   ]
  },
  {
   "cell_type": "markdown",
   "id": "b8118fc7",
   "metadata": {},
   "source": [
    "## 1. 导入库并初始化"
   ]
  },
  {
   "cell_type": "code",
   "execution_count": 1,
   "id": "1669db13",
   "metadata": {},
   "outputs": [
    {
     "name": "stdout",
     "output_type": "stream",
     "text": [
      "✅ 导入成功\n",
      "项目根目录: /Users/juzhongsun/Codes/projects/china_stock_data\n"
     ]
    }
   ],
   "source": [
    "import sys\n",
    "import os\n",
    "import pandas as pd\n",
    "import warnings\n",
    "warnings.filterwarnings('ignore')\n",
    "\n",
    "# 获取项目根目录\n",
    "current_dir = os.path.abspath('.')\n",
    "project_root = os.path.dirname(current_dir)\n",
    "if project_root not in sys.path:\n",
    "    sys.path.insert(0, project_root)\n",
    "\n",
    "# 导入StockData\n",
    "from china_stock_data import StockData\n",
    "\n",
    "# 设置pandas显示选项\n",
    "pd.set_option('display.max_columns', None)\n",
    "pd.set_option('display.width', None)\n",
    "pd.set_option('display.max_colwidth', 30)\n",
    "pd.set_option('display.max_rows', 10)\n",
    "\n",
    "print(\"✅ 导入成功\")\n",
    "print(f\"项目根目录: {project_root}\")"
   ]
  },
  {
   "cell_type": "markdown",
   "id": "1d474ed5",
   "metadata": {},
   "source": [
    "## 2. 创建StockData实例"
   ]
  },
  {
   "cell_type": "code",
   "execution_count": 2,
   "id": "920fd1f6",
   "metadata": {},
   "outputs": [
    {
     "name": "stdout",
     "output_type": "stream",
     "text": [
      "StockData实例创建成功！\n",
      "股票代码: 600519\n",
      "实例Key: 600519\n",
      "可用fetchers: 27个\n",
      "唯一fetchers: 12个\n",
      "访问名称总数: 27个\n"
     ]
    }
   ],
   "source": [
    "# 创建StockData实例 - 以贵州茅台(600519)为例\n",
    "stock = StockData('600519')\n",
    "\n",
    "print(f\"StockData实例创建成功！\")\n",
    "print(f\"股票代码: {stock.symbol}\")\n",
    "print(f\"实例Key: {stock.key()}\")\n",
    "print(f\"可用fetchers: {len(stock.fetchers)}个\")\n",
    "\n",
    "# 获取所有fetcher信息\n",
    "unique_fetchers = {}\n",
    "for name, fetcher in stock.fetchers.items():\n",
    "    fetcher_id = id(fetcher)\n",
    "    if fetcher_id not in unique_fetchers:\n",
    "        unique_fetchers[fetcher_id] = {\n",
    "            'instance': fetcher,\n",
    "            'names': [name],\n",
    "            'class_name': fetcher.__class__.__name__\n",
    "        }\n",
    "    else:\n",
    "        unique_fetchers[fetcher_id]['names'].append(name)\n",
    "\n",
    "print(f\"唯一fetchers: {len(unique_fetchers)}个\")\n",
    "print(f\"访问名称总数: {len(stock.fetchers)}个\")"
   ]
  },
  {
   "cell_type": "markdown",
   "id": "f2e7f743",
   "metadata": {},
   "source": [
    "## 3. 查看所有可用的Fetchers"
   ]
  },
  {
   "cell_type": "code",
   "execution_count": 3,
   "id": "f8d0c4a5",
   "metadata": {},
   "outputs": [
    {
     "name": "stdout",
     "output_type": "stream",
     "text": [
      "📋 所有可用的Stock Data Fetchers:\n",
      "============================================================\n",
      "🔵 基础股票数据:\n",
      "  1. StockHistFetcher\n",
      "     访问名称: kline | stock_zh_a_hist\n",
      "  2. StockInfoFetcher\n",
      "     访问名称: info | stock_individual_info_em\n",
      "  3. StockChipFetcher\n",
      "     访问名称: chip | stock_cyq_em\n",
      "  4. StockRealtimeFetcher\n",
      "     访问名称: bid_ask | stock_bid_ask_em\n",
      "\n",
      "🟢 基本面数据:\n",
      "  1. BlockTradeFetcher\n",
      "     访问名称: block_trade | stock_block_trade_big_em\n",
      "  2. DividendFetcher\n",
      "     访问名称: dividend | stock_fhps_em\n",
      "  3. EarningsFetcher\n",
      "     访问名称: earnings | stock_yjbb_em | stock_yjyg_em\n",
      "  4. FinancialStatementsFetcher\n",
      "     访问名称: financial_statements | stock_lrb_em | stock_zcfz_em | stock_xjll_em\n",
      "  5. RepurchaseFetcher\n",
      "     访问名称: repurchase | stock_repurchase_em\n",
      "  6. RestrictedReleaseFetcher\n",
      "     访问名称: restricted_release | stock_restricted_release_queue_em\n",
      "  7. ShareChangeFetcher\n",
      "     访问名称: share_change | stock_share_change_em\n",
      "  8. TopShareholdersFetcher\n",
      "     访问名称: top_shareholders | stock_gdfx_free_top_10_em\n",
      "\n",
      "📊 访问名称详细列表:\n",
      " 1. bid_ask\n",
      " 2. block_trade\n",
      " 3. chip\n",
      " 4. dividend\n",
      " 5. earnings\n",
      " 6. financial_statements\n",
      " 7. info\n",
      " 8. kline\n",
      " 9. repurchase\n",
      "10. restricted_release\n",
      "11. share_change\n",
      "12. stock_bid_ask_em\n",
      "13. stock_block_trade_big_em\n",
      "14. stock_cyq_em\n",
      "15. stock_fhps_em\n",
      "16. stock_gdfx_free_top_10_em\n",
      "17. stock_individual_info_em\n",
      "18. stock_lrb_em\n",
      "19. stock_repurchase_em\n",
      "20. stock_restricted_release_queue_em\n",
      "21. stock_share_change_em\n",
      "22. stock_xjll_em\n",
      "23. stock_yjbb_em\n",
      "24. stock_yjyg_em\n",
      "25. stock_zcfz_em\n",
      "26. stock_zh_a_hist\n",
      "27. top_shareholders\n"
     ]
    }
   ],
   "source": [
    "print(\"📋 所有可用的Stock Data Fetchers:\")\n",
    "print(\"=\" * 60)\n",
    "\n",
    "# 按类别分组展示\n",
    "basic_fetchers = []\n",
    "fundamental_fetchers = []\n",
    "\n",
    "for fetcher_id, info in unique_fetchers.items():\n",
    "    class_name = info['class_name']\n",
    "    if any(keyword in class_name.lower() for keyword in ['hist', 'info', 'chip', 'realtime']):\n",
    "        basic_fetchers.append(info)\n",
    "    else:\n",
    "        fundamental_fetchers.append(info)\n",
    "\n",
    "print(\"🔵 基础股票数据:\")\n",
    "for i, info in enumerate(basic_fetchers, 1):\n",
    "    class_name = info['class_name']\n",
    "    all_names = ' | '.join(info['names'])\n",
    "    print(f\"  {i}. {class_name}\")\n",
    "    print(f\"     访问名称: {all_names}\")\n",
    "\n",
    "print(f\"\\n🟢 基本面数据:\")\n",
    "for i, info in enumerate(fundamental_fetchers, 1):\n",
    "    class_name = info['class_name']\n",
    "    all_names = ' | '.join(info['names'])\n",
    "    print(f\"  {i}. {class_name}\")\n",
    "    print(f\"     访问名称: {all_names}\")\n",
    "\n",
    "print(f\"\\n📊 访问名称详细列表:\")\n",
    "fetcher_names = sorted(stock.fetchers.keys())\n",
    "for i, name in enumerate(fetcher_names, 1):\n",
    "    print(f\"{i:2d}. {name}\")"
   ]
  },
  {
   "cell_type": "markdown",
   "id": "5d63f6b0",
   "metadata": {},
   "source": [
    "## 4. 数据展示函数"
   ]
  },
  {
   "cell_type": "code",
   "execution_count": 4,
   "id": "f78826ba",
   "metadata": {},
   "outputs": [],
   "source": [
    "def display_stock_fetcher_data(fetcher_name, description, stock_instance):\n",
    "    \"\"\"\n",
    "    展示指定fetcher的数据内容和结构\n",
    "    \"\"\"\n",
    "    print(f\"\\n{'='*80}\")\n",
    "    print(f\"📊 {description}\")\n",
    "    print(f\"🔗 访问名称: {fetcher_name}\")\n",
    "    print(f\"📍 股票代码: {stock_instance.symbol}\")\n",
    "    print(f\"{'='*80}\")\n",
    "    \n",
    "    try:\n",
    "        # 获取数据\n",
    "        data = stock_instance.get_data(fetcher_name)\n",
    "        \n",
    "        if data.empty:\n",
    "            print(\"❌ 数据为空\")\n",
    "            return\n",
    "        \n",
    "        # 基本信息\n",
    "        print(f\"📈 数据形状: {data.shape[0]}行 x {data.shape[1]}列\")\n",
    "        print(f\"📋 列名: {list(data.columns)}\")\n",
    "        \n",
    "        # 数据类型\n",
    "        print(f\"\\n🔢 数据类型:\")\n",
    "        for col, dtype in data.dtypes.items():\n",
    "            print(f\"   {col}: {dtype}\")\n",
    "        \n",
    "        # 数据预览\n",
    "        print(f\"\\n📄 数据预览 (前5行):\")\n",
    "        print(data.head())\n",
    "        \n",
    "        if len(data) > 10:\n",
    "            print(f\"\\n📄 数据预览 (后5行):\")\n",
    "            print(data.tail())\n",
    "        \n",
    "        # 数值列的统计信息\n",
    "        numeric_cols = data.select_dtypes(include=['number']).columns\n",
    "        if len(numeric_cols) > 0 and len(numeric_cols) <= 10:  # 避免过多列的统计\n",
    "            print(f\"\\n📊 数值列统计:\")\n",
    "            print(data[numeric_cols].describe())\n",
    "        elif len(numeric_cols) > 10:\n",
    "            print(f\"\\n📊 数值列统计 (仅显示前5列):\")\n",
    "            print(data[numeric_cols.tolist()[:5]].describe())\n",
    "        \n",
    "        # 特殊信息提取\n",
    "        if 'date' in [col.lower() for col in data.columns] or '日期' in str(data.columns):\n",
    "            date_cols = [col for col in data.columns if 'date' in col.lower() or '日期' in col]\n",
    "            if date_cols:\n",
    "                date_col = date_cols[0]\n",
    "                if not data[date_col].empty:\n",
    "                    try:\n",
    "                        print(f\"\\n📅 时间范围: {data[date_col].min()} 至 {data[date_col].max()}\")\n",
    "                    except:\n",
    "                        pass\n",
    "        \n",
    "        # K线数据特殊处理\n",
    "        price_cols = [col for col in data.columns if any(keyword in col.lower() for keyword in ['price', 'close', '收盘', '价格'])]\n",
    "        if price_cols and len(data) > 1:\n",
    "            price_col = price_cols[0]\n",
    "            try:\n",
    "                latest_price = data[price_col].iloc[-1]\n",
    "                price_change = data[price_col].iloc[-1] - data[price_col].iloc[-2]\n",
    "                change_pct = (price_change / data[price_col].iloc[-2]) * 100\n",
    "                print(f\"\\n💰 最新价格: {latest_price:.2f}\")\n",
    "                print(f\"📈 价格变化: {price_change:+.2f} ({change_pct:+.2f}%)\")\n",
    "            except:\n",
    "                pass\n",
    "        \n",
    "        print(f\"\\n✅ 数据获取成功\")\n",
    "        \n",
    "    except Exception as e:\n",
    "        print(f\"❌ 获取数据时出错: {str(e)}\")"
   ]
  },
  {
   "cell_type": "markdown",
   "id": "6a1b8484",
   "metadata": {},
   "source": [
    "## 5. 基础股票数据\n",
    "\n",
    "### 5.1 历史行情数据"
   ]
  },
  {
   "cell_type": "code",
   "execution_count": 5,
   "id": "48b26df4",
   "metadata": {},
   "outputs": [
    {
     "name": "stdout",
     "output_type": "stream",
     "text": [
      "\n",
      "================================================================================\n",
      "📊 历史行情数据 - 股票的K线数据，包含开高低收量等信息\n",
      "🔗 访问名称: kline\n",
      "📍 股票代码: 600519\n",
      "================================================================================\n",
      "📈 数据形状: 242行 x 14列\n",
      "📋 列名: ['日期', '股票代码', '开盘', '收盘', '最高', '最低', '成交量', '成交额', '振幅', '涨跌幅', '涨跌额', '换手率', '平均', '加权平均']\n",
      "\n",
      "🔢 数据类型:\n",
      "   日期: object\n",
      "   股票代码: int64\n",
      "   开盘: float64\n",
      "   收盘: float64\n",
      "   最高: float64\n",
      "   最低: float64\n",
      "   成交量: int64\n",
      "   成交额: float64\n",
      "   振幅: float64\n",
      "   涨跌幅: float64\n",
      "   涨跌额: float64\n",
      "   换手率: float64\n",
      "   平均: float64\n",
      "   加权平均: float64\n",
      "\n",
      "📄 数据预览 (前5行):\n",
      "           日期    股票代码       开盘       收盘       最高       最低     成交量  \\\n",
      "0  2024-10-08  600519  1858.52  1671.52  1858.52  1628.70  194709   \n",
      "1  2024-10-09  600519  1648.52  1543.67  1648.52  1538.52  120197   \n",
      "2  2024-10-10  600519  1570.78  1588.52  1616.60  1539.52   74603   \n",
      "3  2024-10-11  600519  1563.92  1553.51  1588.48  1538.52   41915   \n",
      "4  2024-10-14  600519  1561.52  1550.51  1569.15  1529.69   44812   \n",
      "\n",
      "            成交额     振幅   涨跌幅     涨跌额   换手率       平均         加权平均  \n",
      "0  3.511408e+10  13.55 -1.47  -25.00  1.55  1743.61  1803.413042  \n",
      "1  1.970843e+10   6.58 -7.65 -127.85  0.96  1593.52  1639.677590  \n",
      "2  1.219896e+10   4.99  2.91   44.85  0.59  1578.06  1635.184113  \n",
      "3  6.764983e+09   3.15 -2.20  -35.01  0.33  1563.50  1613.976549  \n",
      "4  7.181351e+09   2.54 -0.19   -3.00  0.36  1549.42  1602.550840  \n",
      "\n",
      "📄 数据预览 (后5行):\n",
      "             日期    股票代码       开盘       收盘       最高       最低    成交量  \\\n",
      "237  2025-09-22  600519  1465.09  1453.35  1467.97  1450.01  34947   \n",
      "238  2025-09-23  600519  1450.50  1447.42  1457.50  1440.00  38663   \n",
      "239  2025-09-24  600519  1434.07  1442.00  1456.78  1434.07  30744   \n",
      "240  2025-09-25  600519  1442.83  1439.00  1445.21  1436.00  33870   \n",
      "241  2025-09-26  600519  1441.18  1435.00  1447.11  1428.01  45121   \n",
      "\n",
      "              成交额    振幅   涨跌幅    涨跌额   换手率        平均         加权平均  \n",
      "237  5.085058e+09  1.22 -1.00 -14.62  0.28  1458.990  1455.076984  \n",
      "238  5.588384e+09  1.20 -0.41  -5.93  0.31  1448.750  1445.408889  \n",
      "239  4.443053e+09  1.57 -0.37  -5.42  0.25  1445.425  1445.177229  \n",
      "240  4.873275e+09  0.64 -0.21  -3.00  0.27  1440.605  1438.817438  \n",
      "241  6.480890e+09  1.33 -0.28  -4.00  0.36  1437.560  1436.335542  \n",
      "\n",
      "📊 数值列统计 (仅显示前5列):\n",
      "           股票代码           开盘           收盘           最高           最低\n",
      "count     242.0   242.000000   242.000000   242.000000   242.000000\n",
      "mean   600519.0  1480.921322  1479.363264  1494.494504  1467.486653\n",
      "std         0.0    58.867347    53.700576    59.538293    51.023661\n",
      "min    600519.0  1372.410000  1376.200000  1394.390000  1372.410000\n",
      "25%    600519.0  1436.000000  1437.595000  1447.545000  1426.425000\n",
      "50%    600519.0  1476.710000  1476.205000  1494.615000  1464.300000\n",
      "75%    600519.0  1517.270000  1518.900000  1528.452500  1503.460000\n",
      "max    600519.0  1858.520000  1671.520000  1858.520000  1628.700000\n",
      "\n",
      "📅 时间范围: 2024-10-08 至 2025-09-26\n",
      "\n",
      "💰 最新价格: 1435.00\n",
      "📈 价格变化: -4.00 (-0.28%)\n",
      "\n",
      "✅ 数据获取成功\n"
     ]
    }
   ],
   "source": [
    "display_stock_fetcher_data('kline', '历史行情数据 - 股票的K线数据，包含开高低收量等信息', stock)"
   ]
  },
  {
   "cell_type": "markdown",
   "id": "b86b7e92",
   "metadata": {},
   "source": [
    "### 5.2 实时行情数据"
   ]
  },
  {
   "cell_type": "code",
   "execution_count": 6,
   "id": "016caa46",
   "metadata": {},
   "outputs": [
    {
     "name": "stdout",
     "output_type": "stream",
     "text": [
      "\n",
      "================================================================================\n",
      "📊 实时行情数据 - 股票当前的实时价格和交易信息\n",
      "🔗 访问名称: realtime\n",
      "📍 股票代码: 600519\n",
      "================================================================================\n",
      "❌ 获取数据时出错: Unknown data type: realtime\n"
     ]
    }
   ],
   "source": [
    "display_stock_fetcher_data('realtime', '实时行情数据 - 股票当前的实时价格和交易信息', stock)"
   ]
  },
  {
   "cell_type": "markdown",
   "id": "3307f25e",
   "metadata": {},
   "source": [
    "### 5.3 股票基本信息"
   ]
  },
  {
   "cell_type": "code",
   "execution_count": 7,
   "id": "657b581a",
   "metadata": {},
   "outputs": [
    {
     "name": "stdout",
     "output_type": "stream",
     "text": [
      "\n",
      "================================================================================\n",
      "📊 股票基本信息 - 股票名称、行业、市值等基本信息\n",
      "🔗 访问名称: info\n",
      "📍 股票代码: 600519\n",
      "================================================================================\n",
      "📈 数据形状: 8行 x 2列\n",
      "📋 列名: ['item', 'value']\n",
      "\n",
      "🔢 数据类型:\n",
      "   item: object\n",
      "   value: object\n",
      "\n",
      "📄 数据预览 (前5行):\n",
      "   item            value\n",
      "0  股票代码           600519\n",
      "1  股票简称             贵州茅台\n",
      "2   总股本     1252270215.0\n",
      "3   流通股     1252270215.0\n",
      "4   总市值  1797007758525.0\n",
      "\n",
      "✅ 数据获取成功\n"
     ]
    }
   ],
   "source": [
    "display_stock_fetcher_data('info', '股票基本信息 - 股票名称、行业、市值等基本信息', stock)"
   ]
  },
  {
   "cell_type": "markdown",
   "id": "d98f42ce",
   "metadata": {},
   "source": [
    "### 5.4 筹码分布数据"
   ]
  },
  {
   "cell_type": "code",
   "execution_count": 8,
   "id": "6e660103",
   "metadata": {},
   "outputs": [
    {
     "name": "stdout",
     "output_type": "stream",
     "text": [
      "\n",
      "================================================================================\n",
      "📊 筹码分布数据 - 股票的持仓成本分布情况\n",
      "🔗 访问名称: chip\n",
      "📍 股票代码: 600519\n",
      "================================================================================\n",
      "📈 数据形状: 90行 x 9列\n",
      "📋 列名: ['日期', '获利比例', '平均成本', '90成本-低', '90成本-高', '90集中度', '70成本-低', '70成本-高', '70集中度']\n",
      "\n",
      "🔢 数据类型:\n",
      "   日期: object\n",
      "   获利比例: float64\n",
      "   平均成本: float64\n",
      "   90成本-低: float64\n",
      "   90成本-高: float64\n",
      "   90集中度: float64\n",
      "   70成本-低: float64\n",
      "   70成本-高: float64\n",
      "   70集中度: float64\n",
      "\n",
      "📄 数据预览 (前5行):\n",
      "           日期      获利比例     平均成本   90成本-低   90成本-高     90集中度   70成本-低  \\\n",
      "0  2025-05-23  0.808443  1493.61  1407.04  1595.76  0.062849  1433.01   \n",
      "1  2025-05-26  0.677865  1495.34  1407.04  1595.76  0.062849  1433.01   \n",
      "2  2025-05-27  0.647551  1495.34  1407.04  1595.76  0.062849  1433.01   \n",
      "3  2025-05-28  0.606472  1495.34  1407.04  1595.76  0.062849  1433.01   \n",
      "4  2025-05-29  0.616164  1497.07  1407.04  1595.76  0.062849  1433.01   \n",
      "\n",
      "    70成本-高     70集中度  \n",
      "0  1554.21  0.040572  \n",
      "1  1554.21  0.040572  \n",
      "2  1554.21  0.040572  \n",
      "3  1552.48  0.040016  \n",
      "4  1552.48  0.040016  \n",
      "\n",
      "📄 数据预览 (后5行):\n",
      "            日期      获利比例     平均成本   90成本-低   90成本-高     90集中度   70成本-低  \\\n",
      "85  2025-09-22  0.400310  1467.64  1403.58  1562.87  0.053697  1419.16   \n",
      "86  2025-09-23  0.363468  1467.64  1403.58  1562.87  0.053697  1419.16   \n",
      "87  2025-09-24  0.324313  1467.64  1405.31  1562.87  0.053083  1419.16   \n",
      "88  2025-09-25  0.295728  1465.91  1405.31  1562.87  0.053083  1419.16   \n",
      "89  2025-09-26  0.272857  1465.91  1405.31  1562.87  0.053083  1419.16   \n",
      "\n",
      "     70成本-高     70集中度  \n",
      "85  1524.77  0.035876  \n",
      "86  1524.77  0.035876  \n",
      "87  1524.77  0.035876  \n",
      "88  1524.77  0.035876  \n",
      "89  1523.04  0.035308  \n",
      "\n",
      "📊 数值列统计:\n",
      "            获利比例         平均成本       90成本-低       90成本-高      90集中度  \\\n",
      "count  90.000000    90.000000    90.000000    90.000000  90.000000   \n",
      "mean    0.365710  1473.851444  1402.170889  1578.929111   0.059282   \n",
      "std     0.225690    11.986779     3.158050    10.529053   0.003400   \n",
      "min     0.023988  1457.250000  1398.380000  1562.870000   0.053083   \n",
      "25%     0.196106  1465.910000  1400.110000  1569.790000   0.056517   \n",
      "50%     0.320894  1470.235000  1401.840000  1578.450000   0.059873   \n",
      "75%     0.535541  1483.220000  1403.580000  1587.100000   0.062309   \n",
      "max     0.841904  1497.070000  1408.770000  1595.760000   0.063757   \n",
      "\n",
      "            70成本-低       70成本-高      70集中度  \n",
      "count    90.000000    90.000000  90.000000  \n",
      "mean   1419.196778  1537.952556   0.040156  \n",
      "std       7.655788     9.644585   0.002774  \n",
      "min    1412.230000  1523.040000   0.035308  \n",
      "25%    1413.960000  1528.672500   0.037777  \n",
      "50%    1416.565000  1536.890000   0.040016  \n",
      "75%    1419.160000  1546.847500   0.042492  \n",
      "max    1436.470000  1554.210000   0.045074  \n",
      "\n",
      "📅 时间范围: 2025-05-23 至 2025-09-26\n",
      "\n",
      "✅ 数据获取成功\n"
     ]
    }
   ],
   "source": [
    "display_stock_fetcher_data('chip', '筹码分布数据 - 股票的持仓成本分布情况', stock)"
   ]
  },
  {
   "cell_type": "markdown",
   "id": "8a717afd",
   "metadata": {},
   "source": [
    "## 6. 基本面数据\n",
    "\n",
    "### 6.1 财务报表数据"
   ]
  },
  {
   "cell_type": "code",
   "execution_count": 9,
   "id": "1344832b",
   "metadata": {},
   "outputs": [
    {
     "name": "stderr",
     "output_type": "stream",
     "text": [
      "WARNING:root:Fetched data is invalid, returning empty DataFrame.\n"
     ]
    },
    {
     "name": "stdout",
     "output_type": "stream",
     "text": [
      "\n",
      "================================================================================\n",
      "📊 财务报表数据 - 利润表、资产负债表、现金流量表\n",
      "🔗 访问名称: financial_statements\n",
      "📍 股票代码: 600519\n",
      "================================================================================\n",
      "❌ 数据为空\n"
     ]
    }
   ],
   "source": [
    "display_stock_fetcher_data('financial_statements', '财务报表数据 - 利润表、资产负债表、现金流量表', stock)"
   ]
  },
  {
   "cell_type": "markdown",
   "id": "2f0a5b57",
   "metadata": {},
   "source": [
    "### 6.2 分红数据"
   ]
  },
  {
   "cell_type": "code",
   "execution_count": 10,
   "id": "3f2c7318",
   "metadata": {},
   "outputs": [
    {
     "name": "stderr",
     "output_type": "stream",
     "text": [
      "WARNING:root:Fetched data is invalid, returning empty DataFrame.\n"
     ]
    },
    {
     "name": "stdout",
     "output_type": "stream",
     "text": [
      "\n",
      "================================================================================\n",
      "📊 分红数据 - 历史分红派息记录\n",
      "🔗 访问名称: dividend\n",
      "📍 股票代码: 600519\n",
      "================================================================================\n",
      "❌ 数据为空\n"
     ]
    }
   ],
   "source": [
    "display_stock_fetcher_data('dividend', '分红数据 - 历史分红派息记录', stock)"
   ]
  },
  {
   "cell_type": "markdown",
   "id": "d5bb3905",
   "metadata": {},
   "source": [
    "### 6.3 业绩数据"
   ]
  },
  {
   "cell_type": "code",
   "execution_count": 11,
   "id": "71470b10",
   "metadata": {},
   "outputs": [
    {
     "name": "stderr",
     "output_type": "stream",
     "text": [
      "WARNING:root:Fetched data is invalid, returning empty DataFrame.\n"
     ]
    },
    {
     "name": "stdout",
     "output_type": "stream",
     "text": [
      "\n",
      "================================================================================\n",
      "📊 业绩数据 - 营收、净利润等业绩指标\n",
      "🔗 访问名称: earnings\n",
      "📍 股票代码: 600519\n",
      "================================================================================\n",
      "❌ 数据为空\n"
     ]
    }
   ],
   "source": [
    "display_stock_fetcher_data('earnings', '业绩数据 - 营收、净利润等业绩指标', stock)"
   ]
  },
  {
   "cell_type": "markdown",
   "id": "994e0777",
   "metadata": {},
   "source": [
    "### 6.4 股东数据"
   ]
  },
  {
   "cell_type": "code",
   "execution_count": 12,
   "id": "47f40193",
   "metadata": {},
   "outputs": [
    {
     "name": "stderr",
     "output_type": "stream",
     "text": [
      "WARNING:root:Fetched data is invalid, returning empty DataFrame.\n"
     ]
    },
    {
     "name": "stdout",
     "output_type": "stream",
     "text": [
      "\n",
      "================================================================================\n",
      "📊 股东数据 - 十大股东持股情况\n",
      "🔗 访问名称: top_shareholders\n",
      "📍 股票代码: 600519\n",
      "================================================================================\n",
      "❌ 数据为空\n"
     ]
    }
   ],
   "source": [
    "display_stock_fetcher_data('top_shareholders', '股东数据 - 十大股东持股情况', stock)"
   ]
  },
  {
   "cell_type": "markdown",
   "id": "e99ec62f",
   "metadata": {},
   "source": [
    "### 6.5 股本变动数据"
   ]
  },
  {
   "cell_type": "code",
   "execution_count": 13,
   "id": "706c81ca",
   "metadata": {},
   "outputs": [
    {
     "name": "stderr",
     "output_type": "stream",
     "text": [
      "WARNING:root:Fetched data is invalid, returning empty DataFrame.\n"
     ]
    },
    {
     "name": "stdout",
     "output_type": "stream",
     "text": [
      "\n",
      "================================================================================\n",
      "📊 股本变动数据 - 增发、回购等股本变化记录\n",
      "🔗 访问名称: share_change\n",
      "📍 股票代码: 600519\n",
      "================================================================================\n",
      "❌ 数据为空\n"
     ]
    }
   ],
   "source": [
    "display_stock_fetcher_data('share_change', '股本变动数据 - 增发、回购等股本变化记录', stock)"
   ]
  },
  {
   "cell_type": "markdown",
   "id": "940dbe4d",
   "metadata": {},
   "source": [
    "### 6.6 回购数据"
   ]
  },
  {
   "cell_type": "code",
   "execution_count": 14,
   "id": "da7d8daf",
   "metadata": {},
   "outputs": [
    {
     "name": "stdout",
     "output_type": "stream",
     "text": [
      "\n",
      "================================================================================\n",
      "📊 回购数据 - 股票回购计划和执行情况\n",
      "🔗 访问名称: repurchase\n",
      "📍 股票代码: 600519\n",
      "================================================================================\n",
      "📈 数据形状: 4868行 x 18列\n",
      "📋 列名: ['序号', '股票代码', '股票简称', '最新价', '计划回购价格区间', '计划回购数量区间-下限', '计划回购数量区间-上限', '占公告前一日总股本比例-下限', '占公告前一日总股本比例-上限', '计划回购金额区间-下限', '计划回购金额区间-上限', '回购起始时间', '实施进度', '已回购股份价格区间-下限', '已回购股份价格区间-上限', '已回购股份数量', '已回购金额', '最新公告日期']\n",
      "\n",
      "🔢 数据类型:\n",
      "   序号: int64\n",
      "   股票代码: int64\n",
      "   股票简称: object\n",
      "   最新价: float64\n",
      "   计划回购价格区间: float64\n",
      "   计划回购数量区间-下限: float64\n",
      "   计划回购数量区间-上限: float64\n",
      "   占公告前一日总股本比例-下限: float64\n",
      "   占公告前一日总股本比例-上限: float64\n",
      "   计划回购金额区间-下限: float64\n",
      "   计划回购金额区间-上限: float64\n",
      "   回购起始时间: object\n",
      "   实施进度: object\n",
      "   已回购股份价格区间-下限: float64\n",
      "   已回购股份价格区间-上限: float64\n",
      "   已回购股份数量: float64\n",
      "   已回购金额: float64\n",
      "   最新公告日期: object\n",
      "\n",
      "📄 数据预览 (前5行):\n",
      "   序号    股票代码  股票简称    最新价  计划回购价格区间  计划回购数量区间-下限  计划回购数量区间-上限  \\\n",
      "0   1  688166  博瑞医药  58.06    139.77      71500.0     143100.0   \n",
      "1   2    3000  劲仔食品  12.06     16.00    3125000.0    6250000.0   \n",
      "2   3  600668  尖峰集团  11.68     12.42    1610300.0    3220600.0   \n",
      "3   4    2615   哈尔斯   7.76     10.85    7373272.0   14746543.0   \n",
      "4   5     333  美的集团  74.20    100.00   50000000.0  100000000.0   \n",
      "\n",
      "   占公告前一日总股本比例-下限  占公告前一日总股本比例-上限   计划回购金额区间-下限   计划回购金额区间-上限      回购起始时间  \\\n",
      "0        0.016912        0.033848  1.000000e+07  2.000000e+07  2025-09-26   \n",
      "1        0.693067        1.386135  9.999171e+07  9.999171e+07  2025-07-23   \n",
      "2        0.467996        0.935993  4.730900e+06  4.730900e+06  2025-04-21   \n",
      "3        1.581339        3.162677  3.898590e+07  3.898590e+07  2025-04-21   \n",
      "4        0.652730        1.305459  5.224149e+09  5.224149e+09  2025-03-28   \n",
      "\n",
      "    实施进度  已回购股份价格区间-下限  已回购股份价格区间-上限     已回购股份数量         已回购金额      最新公告日期  \n",
      "0  董事会预案           NaN           NaN         NaN           NaN  2025-09-27  \n",
      "1   完成实施         11.93         12.70   8063500.0  9.999171e+07  2025-09-27  \n",
      "2    实施中         11.63         11.76    404600.0  4.730900e+06  2025-09-27  \n",
      "3    实施中          7.69          8.41   4845550.0  3.898590e+07  2025-09-03  \n",
      "4    实施中         69.91         77.99  71678446.0  5.224149e+09  2025-06-18  \n",
      "\n",
      "📄 数据预览 (后5行):\n",
      "        序号    股票代码  股票简称    最新价  计划回购价格区间  计划回购数量区间-下限  计划回购数量区间-上限  \\\n",
      "4863  4864    2032   苏泊尔  48.47       NaN          NaN    2750000.0   \n",
      "4864  4865    2054  德美化工   6.62      12.0          NaN    7000000.0   \n",
      "4865  4866    2048  宁波华翔  36.75      14.5   13790000.0          NaN   \n",
      "4866  4867  600380   健康元  12.24      12.0          NaN   25000000.0   \n",
      "4867  4868  600001  邯郸钢铁   5.29       5.8          NaN   60000000.0   \n",
      "\n",
      "      占公告前一日总股本比例-下限  占公告前一日总股本比例-上限   计划回购金额区间-下限   计划回购金额区间-上限      回购起始时间  \\\n",
      "4863             NaN        0.433086  3.467148e+07  3.467148e+07  2012-07-02   \n",
      "4864             NaN        2.204130  5.473750e+07  5.473750e+07  2011-08-26   \n",
      "4865        2.431498             NaN  1.442085e+08  1.442085e+08  2011-05-16   \n",
      "4866             NaN        1.897607  2.999997e+08  2.999997e+08  2011-01-17   \n",
      "4867             NaN        4.027035  2.399269e+07  2.399269e+07  2005-06-16   \n",
      "\n",
      "      实施进度  已回购股份价格区间-下限  已回购股份价格区间-上限     已回购股份数量         已回购金额      最新公告日期  \n",
      "4863  完成实施         12.24        12.900   2750000.0  3.467148e+07  2012-07-18  \n",
      "4864  完成实施          8.96        11.730   5484773.0  5.473750e+07  2012-01-05  \n",
      "4865  完成实施          9.72        12.390  13940012.0  1.442085e+08  2011-12-02  \n",
      "4866  完成实施          7.07        11.330  29252223.0  2.999997e+08  2011-11-30  \n",
      "4867  完成实施          2.77         3.278   7498816.0  2.399269e+07  2006-03-02  \n",
      "\n",
      "📊 数值列统计 (仅显示前5列):\n",
      "                序号           股票代码          最新价     计划回购价格区间   计划回购数量区间-下限\n",
      "count  4868.000000    4868.000000  4864.000000  4839.000000  3.778000e+03\n",
      "mean   2434.500000  363068.430567    27.338209    30.738337  9.541785e+06\n",
      "std    1405.414885  280161.910776    51.995810    49.827083  2.934087e+07\n",
      "min       1.000000       2.000000     0.110000     0.000200  5.020000e+03\n",
      "25%    1217.750000    2706.000000     8.260000    10.000000  1.000000e+06\n",
      "50%    2434.500000  301073.500000    16.350000    18.500000  2.631578e+06\n",
      "75%    3651.250000  603334.000000    30.992500    35.000000  7.500000e+06\n",
      "max    4868.000000  920799.000000  1435.000000  1744.300000  7.575760e+08\n",
      "\n",
      "📅 时间范围: 2006-03-02 至 2025-09-27\n",
      "\n",
      "💰 最新价格: 5.80\n",
      "📈 价格变化: -6.20 (-51.67%)\n",
      "\n",
      "✅ 数据获取成功\n"
     ]
    }
   ],
   "source": [
    "display_stock_fetcher_data('repurchase', '回购数据 - 股票回购计划和执行情况', stock)"
   ]
  },
  {
   "cell_type": "markdown",
   "id": "08a59b28",
   "metadata": {},
   "source": [
    "### 6.7 限售解禁数据"
   ]
  },
  {
   "cell_type": "code",
   "execution_count": 15,
   "id": "c8f05de2",
   "metadata": {},
   "outputs": [
    {
     "name": "stdout",
     "output_type": "stream",
     "text": [
      "\n",
      "================================================================================\n",
      "📊 限售解禁数据 - 限售股解禁时间表\n",
      "🔗 访问名称: restricted_release\n",
      "📍 股票代码: 600519\n",
      "================================================================================\n",
      "📈 数据形状: 4行 x 13列\n",
      "📋 列名: ['序号', '解禁时间', '解禁股东数', '解禁数量', '实际解禁数量', '未解禁数量', '实际解禁数量市值', '占总市值比例', '占流通市值比例', '解禁前一交易日收盘价', '限售股类型', '解禁前20日涨跌幅', '解禁后20日涨跌幅']\n",
      "\n",
      "🔢 数据类型:\n",
      "   序号: int64\n",
      "   解禁时间: object\n",
      "   解禁股东数: int64\n",
      "   解禁数量: float64\n",
      "   实际解禁数量: float64\n",
      "   未解禁数量: int64\n",
      "   实际解禁数量市值: float64\n",
      "   占总市值比例: float64\n",
      "   占流通市值比例: float64\n",
      "   解禁前一交易日收盘价: float64\n",
      "   限售股类型: object\n",
      "   解禁前20日涨跌幅: float64\n",
      "   解禁后20日涨跌幅: float64\n",
      "\n",
      "📄 数据预览 (前5行):\n",
      "   序号        解禁时间  解禁股东数          解禁数量        实际解禁数量  未解禁数量      实际解禁数量市值  \\\n",
      "0   1  2020-09-04      2  1.248316e+09  1.248316e+09      0  1.257055e+10   \n",
      "1   2  2017-03-20     11  1.099461e+09  1.099461e+09      0  1.774531e+10   \n",
      "2   3  2015-10-14      1  3.730694e+09  3.730694e+09      0  5.931804e+10   \n",
      "3   4  2010-09-29     38  1.175407e+09  1.175407e+09      0  1.468083e+10   \n",
      "\n",
      "     占总市值比例   占流通市值比例  解禁前一交易日收盘价       限售股类型  解禁前20日涨跌幅  解禁后20日涨跌幅  \n",
      "0  0.042529  0.042529       10.07  定向增发机构配售股份  -3.893637  -6.916996  \n",
      "1  0.050858  0.050858       16.14  定向增发机构配售股份  -2.644231  -5.555556  \n",
      "2  0.200000  0.200000       15.90  定向增发机构配售股份   6.042497  12.085160  \n",
      "3  0.102396  0.102396       12.49  定向增发机构配售股份 -10.334996  15.262321  \n",
      "\n",
      "📊 数值列统计 (仅显示前5列):\n",
      "             序号      解禁股东数          解禁数量        实际解禁数量  未解禁数量\n",
      "count  4.000000   4.000000  4.000000e+00  4.000000e+00    4.0\n",
      "mean   2.500000  13.000000  1.813470e+09  1.813470e+09    0.0\n",
      "std    1.290994  17.262677  1.279594e+09  1.279594e+09    0.0\n",
      "min    1.000000   1.000000  1.099461e+09  1.099461e+09    0.0\n",
      "25%    1.750000   1.750000  1.156420e+09  1.156421e+09    0.0\n",
      "50%    2.500000   6.500000  1.211862e+09  1.211862e+09    0.0\n",
      "75%    3.250000  17.750000  1.868911e+09  1.868911e+09    0.0\n",
      "max    4.000000  38.000000  3.730694e+09  3.730694e+09    0.0\n",
      "\n",
      "💰 最新价格: 12.49\n",
      "📈 价格变化: -3.41 (-21.45%)\n",
      "\n",
      "✅ 数据获取成功\n"
     ]
    }
   ],
   "source": [
    "display_stock_fetcher_data('restricted_release', '限售解禁数据 - 限售股解禁时间表', stock)"
   ]
  },
  {
   "cell_type": "markdown",
   "id": "a54fb8a0",
   "metadata": {},
   "source": [
    "### 6.8 大宗交易数据"
   ]
  },
  {
   "cell_type": "code",
   "execution_count": 16,
   "id": "c7b26774",
   "metadata": {},
   "outputs": [
    {
     "name": "stderr",
     "output_type": "stream",
     "text": [
      "WARNING:root:Fetched data is invalid, returning empty DataFrame.\n"
     ]
    },
    {
     "name": "stdout",
     "output_type": "stream",
     "text": [
      "\n",
      "================================================================================\n",
      "📊 大宗交易数据 - 大宗交易记录和统计\n",
      "🔗 访问名称: block_trade\n",
      "📍 股票代码: 600519\n",
      "================================================================================\n",
      "❌ 数据为空\n"
     ]
    }
   ],
   "source": [
    "display_stock_fetcher_data('block_trade', '大宗交易数据 - 大宗交易记录和统计', stock)"
   ]
  },
  {
   "cell_type": "markdown",
   "id": "be22f793",
   "metadata": {},
   "source": [
    "## 7. 多名称访问演示"
   ]
  },
  {
   "cell_type": "code",
   "execution_count": 17,
   "id": "e92eb193",
   "metadata": {},
   "outputs": [
    {
     "name": "stdout",
     "output_type": "stream",
     "text": [
      "🔄 多名称访问模式演示\n",
      "同一个fetcher可以通过业务名称和akshare方法名访问\n",
      "============================================================\n",
      "\n",
      "📋 历史行情:\n",
      "   业务名称: kline\n",
      "   akshare名称: stock_zh_a_hist\n",
      "   同一实例: ✅ 是\n",
      "   数据形状: (242, 14)\n",
      "\n",
      "📋 股票信息:\n",
      "   业务名称: info\n",
      "   akshare名称: stock_individual_info_em\n",
      "   同一实例: ✅ 是\n"
     ]
    },
    {
     "name": "stderr",
     "output_type": "stream",
     "text": [
      "WARNING:root:Fetched data is invalid, returning empty DataFrame.\n"
     ]
    },
    {
     "name": "stdout",
     "output_type": "stream",
     "text": [
      "   数据形状: (8, 2)\n",
      "\n",
      "📋 实时行情:\n",
      "   ✅ 可用名称: []\n",
      "   ❌ 缺失名称: ['realtime', 'stock_zh_a_spot_em']\n",
      "\n",
      "📋 分红数据:\n",
      "   ✅ 可用名称: ['dividend']\n",
      "   ❌ 缺失名称: ['stock_dividend_detail']\n",
      "\n",
      "📋 业绩数据:\n",
      "   业务名称: earnings\n",
      "   akshare名称: stock_yjbb_em\n",
      "   同一实例: ✅ 是\n",
      "   数据形状: 空数据\n",
      "\n",
      "📊 总计访问名称: 27个\n",
      "📊 唯一fetchers: 12个\n"
     ]
    }
   ],
   "source": [
    "print(\"🔄 多名称访问模式演示\")\n",
    "print(\"同一个fetcher可以通过业务名称和akshare方法名访问\")\n",
    "print(\"=\"*60)\n",
    "\n",
    "# 展示多名称访问的例子\n",
    "multi_name_examples = [\n",
    "    ('kline', 'stock_zh_a_hist', '历史行情'),\n",
    "    ('info', 'stock_individual_info_em', '股票信息'),\n",
    "    ('realtime', 'stock_zh_a_spot_em', '实时行情'),\n",
    "    ('dividend', 'stock_dividend_detail', '分红数据'),\n",
    "    ('earnings', 'stock_yjbb_em', '业绩数据')\n",
    "]\n",
    "\n",
    "for business_name, akshare_name, description in multi_name_examples:\n",
    "    print(f\"\\n📋 {description}:\")\n",
    "    \n",
    "    # 验证两个名称是否指向同一个fetcher实例\n",
    "    if business_name in stock.fetchers and akshare_name in stock.fetchers:\n",
    "        same_instance = stock.fetchers[business_name] is stock.fetchers[akshare_name]\n",
    "        print(f\"   业务名称: {business_name}\")\n",
    "        print(f\"   akshare名称: {akshare_name}\")\n",
    "        print(f\"   同一实例: {'✅ 是' if same_instance else '❌ 否'}\")\n",
    "        \n",
    "        # 展示数据形状\n",
    "        try:\n",
    "            data = stock.get_data(business_name)\n",
    "            print(f\"   数据形状: {data.shape if not data.empty else '空数据'}\")\n",
    "        except:\n",
    "            print(f\"   数据形状: 获取失败\")\n",
    "    else:\n",
    "        available_names = [name for name in [business_name, akshare_name] if name in stock.fetchers]\n",
    "        missing_names = [name for name in [business_name, akshare_name] if name not in stock.fetchers]\n",
    "        print(f\"   ✅ 可用名称: {available_names}\")\n",
    "        print(f\"   ❌ 缺失名称: {missing_names}\")\n",
    "\n",
    "print(f\"\\n📊 总计访问名称: {len(stock.fetchers)}个\")\n",
    "print(f\"📊 唯一fetchers: {len(unique_fetchers)}个\")"
   ]
  },
  {
   "cell_type": "markdown",
   "id": "706c656b",
   "metadata": {},
   "source": [
    "## 8. 不同股票的数据对比"
   ]
  },
  {
   "cell_type": "code",
   "execution_count": 18,
   "id": "41e86101",
   "metadata": {},
   "outputs": [
    {
     "name": "stdout",
     "output_type": "stream",
     "text": [
      "📊 不同股票数据对比\n",
      "============================================================\n",
      "\n",
      "🔍 贵州茅台 (600519):\n",
      "   实例Key: 600519\n",
      "   基本信息: (8, 2)\n",
      "   历史数据: 242天 x 14列\n",
      "\n",
      "🔍 五粮液 (000858):\n",
      "   实例Key: 000858\n",
      "Fetching stock info data!\n"
     ]
    },
    {
     "name": "stderr",
     "output_type": "stream",
     "text": [
      "WARNING:root:Fetched data is invalid, returning empty DataFrame.\n"
     ]
    },
    {
     "name": "stdout",
     "output_type": "stream",
     "text": [
      "Error fetching data: ('Connection aborted.', RemoteDisconnected('Remote end closed connection without response'))\n",
      "   基本信息: 无数据\n",
      "Fetching stock history data! 000858\n",
      "   历史数据: 获取失败\n",
      "\n",
      "🔍 平安银行 (000001):\n",
      "   实例Key: 000001\n",
      "   基本信息: (8, 2)\n",
      "   历史数据: 242天 x 14列\n",
      "\n",
      "📈 股票对比总结:\n",
      "----------------------------------------\n",
      "   贵州茅台 (600519): 242天历史数据\n",
      "   平安银行 (000001): 242天历史数据\n",
      "\n",
      "📊 平均历史数据天数: 242天\n"
     ]
    }
   ],
   "source": [
    "print(\"📊 不同股票数据对比\")\n",
    "print(\"=\"*60)\n",
    "\n",
    "# 创建不同股票的实例\n",
    "stocks_to_compare = [\n",
    "    ('600519', '贵州茅台'),\n",
    "    ('000858', '五粮液'),\n",
    "    ('000001', '平安银行')\n",
    "]\n",
    "\n",
    "stock_comparison = {}\n",
    "\n",
    "for stock_code, stock_name in stocks_to_compare:\n",
    "    print(f\"\\n🔍 {stock_name} ({stock_code}):\")\n",
    "    \n",
    "    try:\n",
    "        # 创建股票实例\n",
    "        stock_instance = StockData(stock_code)\n",
    "        print(f\"   实例Key: {stock_instance.key()}\")\n",
    "        \n",
    "        # 获取基本信息\n",
    "        try:\n",
    "            info = stock_instance.get_data('info')\n",
    "            if not info.empty:\n",
    "                print(f\"   基本信息: {info.shape}\")\n",
    "            else:\n",
    "                print(f\"   基本信息: 无数据\")\n",
    "        except:\n",
    "            print(f\"   基本信息: 获取失败\")\n",
    "        \n",
    "        # 获取历史行情数据\n",
    "        try:\n",
    "            hist = stock_instance.get_data('kline')\n",
    "            if not hist.empty:\n",
    "                print(f\"   历史数据: {hist.shape[0]}天 x {hist.shape[1]}列\")\n",
    "                stock_comparison[stock_name] = {\n",
    "                    'code': stock_code,\n",
    "                    'hist_days': hist.shape[0],\n",
    "                    'data': hist\n",
    "                }\n",
    "            else:\n",
    "                print(f\"   历史数据: 无数据\")\n",
    "        except:\n",
    "            print(f\"   历史数据: 获取失败\")\n",
    "            \n",
    "    except Exception as e:\n",
    "        print(f\"   ❌ 错误: {str(e)[:50]}...\")\n",
    "\n",
    "# 对比总结\n",
    "if stock_comparison:\n",
    "    print(f\"\\n📈 股票对比总结:\")\n",
    "    print(\"-\" * 40)\n",
    "    for name, info in stock_comparison.items():\n",
    "        print(f\"   {name} ({info['code']}): {info['hist_days']}天历史数据\")\n",
    "    \n",
    "    # 计算平均历史数据天数\n",
    "    avg_days = sum(info['hist_days'] for info in stock_comparison.values()) / len(stock_comparison)\n",
    "    print(f\"\\n📊 平均历史数据天数: {avg_days:.0f}天\")"
   ]
  },
  {
   "cell_type": "markdown",
   "id": "46dd2e76",
   "metadata": {},
   "source": [
    "## 9. 完整总览"
   ]
  },
  {
   "cell_type": "code",
   "execution_count": 19,
   "id": "534bca01",
   "metadata": {},
   "outputs": [
    {
     "name": "stdout",
     "output_type": "stream",
     "text": [
      "📊 StockData完整功能总览\n",
      "================================================================================\n",
      "\n",
      "🏗️ 系统信息:\n",
      "   股票代码: 600519\n",
      "   实例Key: 600519\n",
      "\n",
      "📈 数据获取能力:\n"
     ]
    },
    {
     "name": "stderr",
     "output_type": "stream",
     "text": [
      "WARNING:root:Fetched data is invalid, returning empty DataFrame.\n",
      "WARNING:root:Fetched data is invalid, returning empty DataFrame.\n",
      "WARNING:root:Fetched data is invalid, returning empty DataFrame.\n",
      "WARNING:root:Fetched data is invalid, returning empty DataFrame.\n",
      "WARNING:root:Fetched data is invalid, returning empty DataFrame.\n"
     ]
    },
    {
     "name": "stdout",
     "output_type": "stream",
     "text": [
      "    1. 🔵 基础 StockHistFetcher: ✅ 242行 x 14列\n",
      "       访问名称: kline | stock_zh_a_hist\n",
      "    2. 🔵 基础 StockInfoFetcher: ✅ 8行 x 2列\n",
      "       访问名称: info | stock_individual_info_em\n",
      "    3. 🔵 基础 StockChipFetcher: ✅ 90行 x 9列\n",
      "       访问名称: chip | stock_cyq_em\n",
      "Fetching stock realtime data!\n",
      "Error fetching data: ('Connection aborted.', RemoteDisconnected('Remote end closed connection without response'))\n",
      "    4. 🔵 基础 StockRealtimeFetcher: ⚠️ 空数据\n",
      "       访问名称: bid_ask | stock_bid_ask_em\n",
      "    5. 🟢 基本面 BlockTradeFetcher: ⚠️ 空数据\n",
      "       访问名称: block_trade | stock_block_trade_big_em\n",
      "    6. 🟢 基本面 DividendFetcher: ⚠️ 空数据\n",
      "       访问名称: dividend | stock_fhps_em\n",
      "    7. 🟢 基本面 EarningsFetcher: ⚠️ 空数据\n",
      "       访问名称: earnings | stock_yjbb_em | stock_yjyg_em\n",
      "    8. 🟢 基本面 FinancialStatementsFetcher: ⚠️ 空数据\n",
      "       访问名称: financial_statements | stock_lrb_em | stock_zcfz_em | stock_xjll_em\n"
     ]
    },
    {
     "name": "stderr",
     "output_type": "stream",
     "text": [
      "WARNING:root:Fetched data is invalid, returning empty DataFrame.\n"
     ]
    },
    {
     "name": "stdout",
     "output_type": "stream",
     "text": [
      "    9. 🟢 基本面 RepurchaseFetcher: ✅ 4868行 x 18列\n",
      "       访问名称: repurchase | stock_repurchase_em\n",
      "   10. 🟢 基本面 RestrictedReleaseFetcher: ✅ 4行 x 13列\n",
      "       访问名称: restricted_release | stock_restricted_release_queue_em\n",
      "   11. 🟢 基本面 ShareChangeFetcher: ⚠️ 空数据\n",
      "       访问名称: share_change | stock_share_change_em\n"
     ]
    },
    {
     "name": "stderr",
     "output_type": "stream",
     "text": [
      "WARNING:root:Fetched data is invalid, returning empty DataFrame.\n"
     ]
    },
    {
     "name": "stdout",
     "output_type": "stream",
     "text": [
      "   12. 🟢 基本面 TopShareholdersFetcher: ⚠️ 空数据\n",
      "       访问名称: top_shareholders | stock_gdfx_free_top_10_em\n",
      "\n",
      "🎯 统计结果:\n",
      "   正常工作的fetchers: 5/12\n",
      "   基础数据fetchers: 4个\n",
      "   基本面数据fetchers: 8个\n",
      "   总数据行数: 5,212行\n",
      "   访问名称总数: 27个\n",
      "   成功率: 41.7%\n",
      "\n",
      "💡 使用建议:\n",
      "   • 使用业务名称访问更直观: stock.kline, stock.dividend\n",
      "   • 使用akshare名称保持兼容性: stock.stock_zh_a_hist\n",
      "   • 通过get_data()方法统一访问: stock.get_data('kline')\n",
      "   • 创建不同股票实例获取对应数据: StockData('600519')\n",
      "   • 所有数据都支持pandas DataFrame操作\n",
      "\n",
      "🔍 主要应用场景:\n",
      "   • 技术分析 - 基于历史行情和筹码分布进行技术分析\n",
      "   • 基本面分析 - 通过财务数据和业绩指标评估投资价值\n",
      "   • 投资决策 - 结合分红、股东等信息制定投资策略\n",
      "   • 风险评估 - 通过限售解禁、大宗交易等数据评估风险\n",
      "   • 实时监控 - 使用实时行情数据进行盘中监控\n"
     ]
    }
   ],
   "source": [
    "print(\"📊 StockData完整功能总览\")\n",
    "print(\"=\"*80)\n",
    "\n",
    "print(f\"\\n🏗️ 系统信息:\")\n",
    "print(f\"   股票代码: {stock.symbol}\")\n",
    "print(f\"   实例Key: {stock.key()}\")\n",
    "\n",
    "print(f\"\\n📈 数据获取能力:\")\n",
    "working_count = 0\n",
    "total_data_rows = 0\n",
    "basic_count = 0 \n",
    "fundamental_count = 0\n",
    "\n",
    "for i, (fetcher_id, info) in enumerate(unique_fetchers.items(), 1):\n",
    "    primary_name = info['names'][0]\n",
    "    class_name = info['class_name']\n",
    "    all_names = ' | '.join(info['names'])\n",
    "    \n",
    "    # 分类统计\n",
    "    if any(keyword in class_name.lower() for keyword in ['hist', 'info', 'chip', 'realtime']):\n",
    "        category = \"🔵 基础\"\n",
    "        basic_count += 1\n",
    "    else:\n",
    "        category = \"🟢 基本面\"\n",
    "        fundamental_count += 1\n",
    "    \n",
    "    try:\n",
    "        data = stock.get_data(primary_name)\n",
    "        if not data.empty:\n",
    "            working_count += 1\n",
    "            total_data_rows += len(data)\n",
    "            status = f\"✅ {data.shape[0]}行 x {data.shape[1]}列\"\n",
    "        else:\n",
    "            status = \"⚠️ 空数据\"\n",
    "    except Exception as e:\n",
    "        status = f\"❌ 错误\"\n",
    "    \n",
    "    print(f\"   {i:2d}. {category} {class_name}: {status}\")\n",
    "    print(f\"       访问名称: {all_names}\")\n",
    "\n",
    "print(f\"\\n🎯 统计结果:\")\n",
    "print(f\"   正常工作的fetchers: {working_count}/{len(unique_fetchers)}\")\n",
    "print(f\"   基础数据fetchers: {basic_count}个\")\n",
    "print(f\"   基本面数据fetchers: {fundamental_count}个\")\n",
    "print(f\"   总数据行数: {total_data_rows:,}行\")\n",
    "print(f\"   访问名称总数: {len(stock.fetchers)}个\")\n",
    "print(f\"   成功率: {working_count/len(unique_fetchers)*100:.1f}%\")\n",
    "\n",
    "print(f\"\\n💡 使用建议:\")\n",
    "print(f\"   • 使用业务名称访问更直观: stock.kline, stock.dividend\")\n",
    "print(f\"   • 使用akshare名称保持兼容性: stock.stock_zh_a_hist\")\n",
    "print(f\"   • 通过get_data()方法统一访问: stock.get_data('kline')\")\n",
    "print(f\"   • 创建不同股票实例获取对应数据: StockData('600519')\")\n",
    "print(f\"   • 所有数据都支持pandas DataFrame操作\")\n",
    "\n",
    "print(f\"\\n🔍 主要应用场景:\")\n",
    "print(f\"   • 技术分析 - 基于历史行情和筹码分布进行技术分析\")\n",
    "print(f\"   • 基本面分析 - 通过财务数据和业绩指标评估投资价值\")\n",
    "print(f\"   • 投资决策 - 结合分红、股东等信息制定投资策略\")\n",
    "print(f\"   • 风险评估 - 通过限售解禁、大宗交易等数据评估风险\")\n",
    "print(f\"   • 实时监控 - 使用实时行情数据进行盘中监控\")"
   ]
  }
 ],
 "metadata": {
  "kernelspec": {
   "display_name": "Python 3 (ipykernel)",
   "language": "python",
   "name": "python3"
  },
  "language_info": {
   "codemirror_mode": {
    "name": "ipython",
    "version": 3
   },
   "file_extension": ".py",
   "mimetype": "text/x-python",
   "name": "python",
   "nbconvert_exporter": "python",
   "pygments_lexer": "ipython3",
   "version": "3.12.4"
  }
 },
 "nbformat": 4,
 "nbformat_minor": 5
}
